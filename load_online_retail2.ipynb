{
 "cells": [
  {
   "cell_type": "code",
   "execution_count": null,
   "metadata": {},
   "outputs": [],
   "source": [
    "import pandas as pd\n",
    "from db.database import SessionLocal, init_db\n",
    "from db.repositories import OnlineRetail2Repository\n",
    "import numpy as np\n",
    "from tqdm import tqdm"
   ]
  },
  {
   "cell_type": "code",
   "execution_count": null,
   "metadata": {},
   "outputs": [],
   "source": [
    "\n",
    "df = pd.read_csv(\"/Users/nikhilsoni/Downloads/online_retail_II.csv\")"
   ]
  },
  {
   "cell_type": "code",
   "execution_count": null,
   "metadata": {},
   "outputs": [],
   "source": [
    "\n",
    "mapping_dict = {\n",
    "    \"id\": \"id\",\n",
    "    \"Invoice\": \"invoice_no\",\n",
    "    \"StockCode\": \"stock_code\",\n",
    "    \"Description\": \"description\",\n",
    "    \"Quantity\": \"quantity\",\n",
    "    \"InvoiceDate\": \"invoice_date\",\n",
    "    \"Price\": \"unit_price\",\n",
    "    \"Customer ID\": \"customer_id\",\n",
    "    \"Country\": \"country\",\n",
    "}"
   ]
  },
  {
   "cell_type": "code",
   "execution_count": null,
   "metadata": {},
   "outputs": [],
   "source": [
    "\n",
    "df1 = df.copy()\n",
    "df1 = df1.reset_index(names=\"id\")\n",
    "df1 = df1.rename(columns=mapping_dict)\n",
    "customer_id = df1[\"customer_id\"]\n",
    "customer_id = customer_id.apply(lambda x: x if np.isnan(x) else str(int(x)))\n",
    "df1[\"customer_id\"] = customer_id\n",
    "df1 = df1.replace({np.nan: None})\n"
   ]
  },
  {
   "cell_type": "code",
   "execution_count": null,
   "metadata": {},
   "outputs": [],
   "source": [
    "\n",
    "records = df1.to_dict(orient=\"records\")"
   ]
  },
  {
   "cell_type": "code",
   "execution_count": null,
   "metadata": {},
   "outputs": [],
   "source": [
    "\n",
    "db_session = SessionLocal()\n",
    "repository = OnlineRetail2Repository(db_session)\n",
    "repository.bulk_create(records)"
   ]
  }
 ],
 "metadata": {
  "kernelspec": {
   "display_name": ".venv",
   "language": "python",
   "name": "python3"
  },
  "language_info": {
   "codemirror_mode": {
    "name": "ipython",
    "version": 3
   },
   "file_extension": ".py",
   "mimetype": "text/x-python",
   "name": "python",
   "nbconvert_exporter": "python",
   "pygments_lexer": "ipython3",
   "version": "3.10.0"
  }
 },
 "nbformat": 4,
 "nbformat_minor": 2
}
