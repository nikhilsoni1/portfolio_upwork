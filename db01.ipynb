{
 "cells": [
  {
   "cell_type": "code",
   "execution_count": 6,
   "metadata": {},
   "outputs": [],
   "source": [
    "from sqlalchemy import create_engine\n",
    "import pandas as pd\n",
    "\n",
    "class PostgresDatabase:\n",
    "    \"\"\"A class to handle PostgreSQL database connection and queries using SQLAlchemy.\"\"\"\n",
    "    \n",
    "    def __init__(self, host: str, port: str, dbname: str, user: str, password: str):\n",
    "        \"\"\"\n",
    "        Initialize database connection parameters and create an SQLAlchemy engine.\n",
    "        \"\"\"\n",
    "        self.db_url = f\"postgresql+psycopg2://{user}:{password}@{host}:{port}/{dbname}\"\n",
    "        self.engine = create_engine(self.db_url)\n",
    "        self.connection = None\n",
    "    \n",
    "    def connect(self):\n",
    "        \"\"\"Establishes a connection using SQLAlchemy engine.\"\"\"\n",
    "        try:\n",
    "            self.connection = self.engine.connect()\n",
    "            print(\"Database connection established successfully.\")\n",
    "        except Exception as e:\n",
    "            print(f\"Error connecting to database: {e}\")\n",
    "            self.connection = None\n",
    "    \n",
    "    def fetch_all(self, table_name: str):\n",
    "        \"\"\"\n",
    "        Fetch all rows from a specified table.\n",
    "        Returns a list of tuples.\n",
    "        \"\"\"\n",
    "        if not self.connection:\n",
    "            print(\"No database connection. Call connect() first.\")\n",
    "            return []\n",
    "        \n",
    "        try:\n",
    "            result = self.connection.execute(f\"SELECT * FROM {table_name};\")\n",
    "            rows = result.fetchall()\n",
    "            return rows\n",
    "        except Exception as e:\n",
    "            print(f\"Error fetching data from {table_name}: {e}\")\n",
    "            return []\n",
    "\n",
    "    def fetch_as_dataframe(self, table_name: str, **kwargs) -> pd.DataFrame:\n",
    "        \"\"\"\n",
    "        Fetch data from a specified table and return it as a Pandas DataFrame.\n",
    "        Allows additional kwargs for Pandas `read_sql` function.\n",
    "        \"\"\"\n",
    "        if not self.connection:\n",
    "            print(\"No database connection. Call connect() first.\")\n",
    "            return pd.DataFrame()\n",
    "        \n",
    "        try:\n",
    "            query = f\"SELECT * FROM {table_name};\"\n",
    "            df = pd.read_sql(query, self.engine, **kwargs)\n",
    "            return df\n",
    "        except Exception as e:\n",
    "            print(f\"Error fetching data as DataFrame from {table_name}: {e}\")\n",
    "            return pd.DataFrame()\n",
    "\n",
    "    def close(self):\n",
    "        \"\"\"Closes the database connection.\"\"\"\n",
    "        if self.connection:\n",
    "            self.connection.close()\n",
    "            print(\"Database connection closed.\")"
   ]
  },
  {
   "cell_type": "code",
   "execution_count": 7,
   "metadata": {},
   "outputs": [],
   "source": [
    "DB_CONFIG = {\n",
    "    \"host\": \"localhost\",\n",
    "    \"port\": \"5432\",\n",
    "    \"dbname\": \"dev\",\n",
    "    \"user\": \"postgres\",\n",
    "    \"password\": \"postgres\"\n",
    "}"
   ]
  },
  {
   "cell_type": "code",
   "execution_count": null,
   "metadata": {},
   "outputs": [
    {
     "name": "stdout",
     "output_type": "stream",
     "text": [
      "Database connection established successfully.\n"
     ]
    },
    {
     "data": {
      "text/html": [
       "<div>\n",
       "<style scoped>\n",
       "    .dataframe tbody tr th:only-of-type {\n",
       "        vertical-align: middle;\n",
       "    }\n",
       "\n",
       "    .dataframe tbody tr th {\n",
       "        vertical-align: top;\n",
       "    }\n",
       "\n",
       "    .dataframe thead th {\n",
       "        text-align: right;\n",
       "    }\n",
       "</style>\n",
       "<table border=\"1\" class=\"dataframe\">\n",
       "  <thead>\n",
       "    <tr style=\"text-align: right;\">\n",
       "      <th></th>\n",
       "      <th>user_resource_id</th>\n",
       "      <th>email_id</th>\n",
       "      <th>created_ts</th>\n",
       "    </tr>\n",
       "  </thead>\n",
       "  <tbody>\n",
       "    <tr>\n",
       "      <th>0</th>\n",
       "      <td>7e8dce8d-aa31-4e08-960a-ce33ca3e9833</td>\n",
       "      <td>nikhilkamlesh.soni@gmail.com</td>\n",
       "      <td>2023-11-18 13:12:55.167622</td>\n",
       "    </tr>\n",
       "  </tbody>\n",
       "</table>\n",
       "</div>"
      ],
      "text/plain": [
       "                       user_resource_id                      email_id  \\\n",
       "0  7e8dce8d-aa31-4e08-960a-ce33ca3e9833  nikhilkamlesh.soni@gmail.com   \n",
       "\n",
       "                  created_ts  \n",
       "0 2023-11-18 13:12:55.167622  "
      ]
     },
     "metadata": {},
     "output_type": "display_data"
    },
    {
     "name": "stdout",
     "output_type": "stream",
     "text": [
      "Database connection closed.\n"
     ]
    }
   ],
   "source": [
    "db = PostgresDatabase(**DB_CONFIG)\n",
    "db.connect()\n",
    "df = db.fetch_as_dataframe(\"users\")\n",
    "display(df)\n",
    "db.close()"
   ]
  },
  {
   "cell_type": "code",
   "execution_count": null,
   "metadata": {},
   "outputs": [],
   "source": []
  }
 ],
 "metadata": {
  "kernelspec": {
   "display_name": ".venv",
   "language": "python",
   "name": "python3"
  },
  "language_info": {
   "codemirror_mode": {
    "name": "ipython",
    "version": 3
   },
   "file_extension": ".py",
   "mimetype": "text/x-python",
   "name": "python",
   "nbconvert_exporter": "python",
   "pygments_lexer": "ipython3",
   "version": "3.10.0"
  }
 },
 "nbformat": 4,
 "nbformat_minor": 2
}
